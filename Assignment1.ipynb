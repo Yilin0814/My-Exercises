{
 "cells": [
  {
   "cell_type": "markdown",
   "id": "f466d941",
   "metadata": {},
   "source": [
    "# Assignment 1"
   ]
  },
  {
   "cell_type": "markdown",
   "id": "236f2b33",
   "metadata": {},
   "source": [
    "## Date :  February 07, 2023"
   ]
  },
  {
   "cell_type": "markdown",
   "id": "3e1a5daf",
   "metadata": {},
   "source": [
    "###  My name : **Yilin Wang**"
   ]
  },
  {
   "cell_type": "markdown",
   "id": "69087568",
   "metadata": {},
   "source": [
    "- java\n",
    "- python\n",
    "- c"
   ]
  },
  {
   "cell_type": "markdown",
   "id": "09c02e67",
   "metadata": {},
   "source": [
    "| intermediate devices|        end devices |        media |\n",
    "| ----------- | ----------- |----------- |\n",
    "|    switch           |           phone    |     cables       |"
   ]
  },
  {
   "cell_type": "code",
   "execution_count": 7,
   "id": "6a16cbd4",
   "metadata": {},
   "outputs": [
    {
     "name": "stdout",
     "output_type": "stream",
     "text": [
      "Yilin Wang\n"
     ]
    }
   ],
   "source": [
    "print('Yilin Wang')"
   ]
  },
  {
   "cell_type": "code",
   "execution_count": 10,
   "id": "4d8553aa",
   "metadata": {},
   "outputs": [
    {
     "name": "stdout",
     "output_type": "stream",
     "text": [
      "what is your age?  22\n",
      "age: 22\n"
     ]
    }
   ],
   "source": [
    "age = int(input(\"what is your age?  \")) \n",
    "print(\"age: \"+ str(age)) "
   ]
  },
  {
   "cell_type": "code",
   "execution_count": 12,
   "id": "bd39802e",
   "metadata": {},
   "outputs": [
    {
     "name": "stdout",
     "output_type": "stream",
     "text": [
      "Please enter the first number:1\n",
      "Please enter the second number:2\n",
      "3\n"
     ]
    }
   ],
   "source": [
    "numb1 = int( input(\"Please enter the first number:\") )\n",
    "numb2 = int( input(\"Please enter the second number:\") )\n",
    "\n",
    "print(numb1+numb2)\n"
   ]
  },
  {
   "cell_type": "code",
   "execution_count": null,
   "id": "cfcbc9d1",
   "metadata": {},
   "outputs": [],
   "source": [
    "print(\"Thank you for your course! It is very useful! \")"
   ]
  }
 ],
 "metadata": {
  "kernelspec": {
   "display_name": "Python 3 (ipykernel)",
   "language": "python",
   "name": "python3"
  },
  "language_info": {
   "codemirror_mode": {
    "name": "ipython",
    "version": 3
   },
   "file_extension": ".py",
   "mimetype": "text/x-python",
   "name": "python",
   "nbconvert_exporter": "python",
   "pygments_lexer": "ipython3",
   "version": "3.8.1"
  }
 },
 "nbformat": 4,
 "nbformat_minor": 5
}
