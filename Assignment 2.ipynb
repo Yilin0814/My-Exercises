{
 "cells": [
  {
   "cell_type": "markdown",
   "id": "f85f6e61",
   "metadata": {},
   "source": [
    "Assignment 2\n",
    "\n",
    "## **Date : February 16, 2023**\n",
    "\n",
    "****My name : Yilin Wang****"
   ]
  },
  {
   "cell_type": "markdown",
   "id": "11f1ee7e",
   "metadata": {},
   "source": [
    "---"
   ]
  },
  {
   "cell_type": "markdown",
   "id": "8d50dc7b",
   "metadata": {},
   "source": [
    "1. Define two variables and assign them values of 100 and 29. After this, make the interpreter sum up the two numbers and multiply their result by 3.\n",
    "\n",
    "    Calculate the 2nd exponent of the previous number and save it to a new variable.\n",
    "\n",
    "    Make the program print the result in the following way:\n",
    "\n",
    "    *The result of the calculation was:*\n",
    "\n",
    "    *149769*\n",
    "\n",
    "    Make sure you use valid variable names and name your variables meaningfully.\n",
    "\n",
    "    Make sure that output of your program has indentation as shown in the above example."
   ]
  },
  {
   "cell_type": "code",
   "execution_count": 12,
   "id": "d5cf8130",
   "metadata": {},
   "outputs": [
    {
     "name": "stdout",
     "output_type": "stream",
     "text": [
      "The result of the calculation was:\n",
      "149769\n"
     ]
    }
   ],
   "source": [
    "var1 = 100\n",
    "var2 = 29\n",
    "var3 = ( var1 + var2 ) * 3\n",
    "var4 = var3 ** 2\n",
    "print(\"The result of the calculation was:\")\n",
    "print(var4)"
   ]
  },
  {
   "cell_type": "markdown",
   "id": "dc3ce0bd",
   "metadata": {},
   "source": [
    "--- "
   ]
  },
  {
   "cell_type": "markdown",
   "id": "589efa90",
   "metadata": {},
   "source": [
    "2. Write a program that creates a password by asking the user to input their name, age, year of birth.\n",
    "\n",
    "    Save all in separate variables using the right type for each of them. Program should create the password in following way: takes last two digits of year of birth, first 3 letters from name, and the 2nd power of the age according to the example below:\n",
    "\n",
    "    Name: John\n",
    "    \n",
    "    Year of birt: 1995\n",
    "    \n",
    "    Age: 26\n",
    "    \n",
    "    Password: 95Joh676\n"
   ]
  },
  {
   "cell_type": "code",
   "execution_count": 13,
   "id": "0c4cb5a6",
   "metadata": {},
   "outputs": [
    {
     "name": "stdout",
     "output_type": "stream",
     "text": [
      "Name: John\n",
      "Year of birt: 1995\n",
      "Age: 26\n",
      "Password: 95Joh676\n"
     ]
    }
   ],
   "source": [
    "name = input(\"Name: \")\n",
    "birt = input(\"Year of birt: \")\n",
    "age = int(input(\"Age: \"))\n",
    "psw_age = str(age ** 2)\n",
    "print(\"Password: \" + birt[2:4] + name[0:3] + psw_age)"
   ]
  },
  {
   "cell_type": "markdown",
   "id": "0ed1acf9",
   "metadata": {},
   "source": [
    "----"
   ]
  },
  {
   "cell_type": "markdown",
   "id": "a4b5574c",
   "metadata": {},
   "source": [
    "3. Write a program that asks for two numbers. If both numbers are even, the program prints \"Both numbers are even.\" If only one of the numbers is even, the program prints \"One of the numbers is even.\". Finally, if neither of the numbers is even, the program prints \"Both numbers are odd\".\n",
    "\n",
    "    First number: 5\n",
    "    \n",
    "    Second number: 6\n",
    "    \n",
    "    One of the numbers is even"
   ]
  },
  {
   "cell_type": "code",
   "execution_count": 5,
   "id": "1a2af8ec",
   "metadata": {},
   "outputs": [
    {
     "name": "stdout",
     "output_type": "stream",
     "text": [
      "First number: 2\n",
      "Second number: 2\n",
      "Both numbers are even.\n"
     ]
    }
   ],
   "source": [
    "num1 = int(input(\"First number: \"))\n",
    "num2 = int(input(\"Second number: \"))\n",
    "if num1 % 2 + num2 % 2 == 1:\n",
    "    print(\"One of the numbers is even\")\n",
    "elif num1 % 2 + num2 % 2 == 0:\n",
    "    print(\"Both numbers are even.\")\n",
    "else:\n",
    "    print(\"Both numbers are odd\")\n",
    "    \n"
   ]
  },
  {
   "cell_type": "markdown",
   "id": "a6bedbe5",
   "metadata": {},
   "source": [
    "---"
   ]
  },
  {
   "cell_type": "markdown",
   "id": "5a1c6656",
   "metadata": {},
   "source": [
    "4. Create a program, which asks the user for a number, and calculates the sum of all positive numbers from 0 to the user given input.\n",
    "\n",
    "    If the user gives the number 4, the program calculates the sum 0+1+2+3, if 7, the calculation is\n",
    "\n",
    "    0+1+2+3+4+5+6.\n",
    "\n",
    "    Program operates as bellow:\n",
    "\n",
    "    *Give an integer: 5*\n",
    "\n",
    "    *The sum was: 10*"
   ]
  },
  {
   "cell_type": "code",
   "execution_count": 3,
   "id": "07ba8947",
   "metadata": {},
   "outputs": [
    {
     "name": "stdout",
     "output_type": "stream",
     "text": [
      "Give an integer: 3\n",
      "The sum was: 3\n"
     ]
    }
   ],
   "source": [
    "num1 = int( input(\"Give an integer: \") )\n",
    "sum = 0\n",
    "for i in range(0, 7):\n",
    "    sum = sum + i\n",
    "print(\"The sum was:\" , sum )"
   ]
  },
  {
   "cell_type": "markdown",
   "id": "dcdec967",
   "metadata": {},
   "source": [
    " ---"
   ]
  },
  {
   "cell_type": "markdown",
   "id": "ad4a735d",
   "metadata": {},
   "source": [
    "5. Create a program that can be used as a guessing game. The game is played by Dealer and Player."
   ]
  },
  {
   "cell_type": "code",
   "execution_count": 16,
   "id": "d78b0285",
   "metadata": {},
   "outputs": [
    {
     "name": "stdout",
     "output_type": "stream",
     "text": [
      "Player1: 10\n",
      "Try a smaller number.\n",
      "Player1: 7\n",
      "Try a smaller number.\n",
      "Player1: 6\n",
      "Try a smaller number.\n",
      "Player1: 4\n",
      "Try a greater number.\n",
      "Player1: 5\n",
      "That’s right! Number of tries: 5\n",
      "--------------------\n",
      "Player2: 5\n",
      "Try a greater number.\n",
      "Player2: 7\n",
      "Try a greater number.\n",
      "Player2: 9\n",
      "Try a greater number.\n",
      "Player2: 10\n",
      "That’s right! Number of tries: 4\n",
      "--------------------\n",
      "Winer is Player2\n"
     ]
    }
   ],
   "source": [
    "import random\n",
    "play1num = random.randint(0, 10)\n",
    "play2num = random.randint(0, 10)\n",
    "play1flag = True\n",
    "play2flag = True\n",
    "play1count = 0\n",
    "play2count = 0\n",
    "\n",
    "while play1flag:\n",
    "    play1count += 1\n",
    "    tmp1 = input(\"Player1: \")\n",
    "    if int(tmp1) == play1num :\n",
    "        play1flag = False\n",
    "        print(\"That’s right! Number of tries:\", str(play1count))\n",
    "    elif int(tmp1) < play1num :\n",
    "        print(\"Try a greater number.\")\n",
    "    else:\n",
    "        print(\"Try a smaller number.\")\n",
    "\n",
    "print('-'*20)\n",
    "        \n",
    "while play2flag:\n",
    "    play2count += 1\n",
    "    tmp2 = input(\"Player2: \")\n",
    "    if int(tmp2) == play2num :\n",
    "        play2flag = False\n",
    "        print(\"That’s right! Number of tries:\", str(play2count))\n",
    "    elif int(tmp2) < play2num :\n",
    "        print(\"Try a greater number.\")\n",
    "    else:\n",
    "        print(\"Try a smaller number.\")\n",
    "\n",
    "print('-'*20)\n",
    "                \n",
    "if play1count < play2count:\n",
    "    print(\"Winer is Player1\")\n",
    "elif play1count > play2count:\n",
    "    print(\"Winer is Player2\")\n",
    "else:\n",
    "    print(\"Score draw, let's try again! \")"
   ]
  },
  {
   "cell_type": "code",
   "execution_count": null,
   "id": "fc6247b7",
   "metadata": {},
   "outputs": [],
   "source": []
  }
 ],
 "metadata": {
  "kernelspec": {
   "display_name": "Python 3 (ipykernel)",
   "language": "python",
   "name": "python3"
  },
  "language_info": {
   "codemirror_mode": {
    "name": "ipython",
    "version": 3
   },
   "file_extension": ".py",
   "mimetype": "text/x-python",
   "name": "python",
   "nbconvert_exporter": "python",
   "pygments_lexer": "ipython3",
   "version": "3.8.1"
  }
 },
 "nbformat": 4,
 "nbformat_minor": 5
}
