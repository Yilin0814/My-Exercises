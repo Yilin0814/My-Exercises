{
 "cells": [
  {
   "cell_type": "markdown",
   "id": "bed1ce0e",
   "metadata": {},
   "source": [
    "Assignment 3\n",
    "## **February 22, 2023**\n",
    "****Yilin Wang****"
   ]
  },
  {
   "cell_type": "markdown",
   "id": "2df8a553",
   "metadata": {},
   "source": [
    "1. Write a lambda expression to get the product of two numbers.\n",
    "    Run test for expression(5,6) Output: 30\n"
   ]
  },
  {
   "cell_type": "code",
   "execution_count": 11,
   "id": "8ae01793",
   "metadata": {},
   "outputs": [
    {
     "name": "stdout",
     "output_type": "stream",
     "text": [
      "30\n"
     ]
    }
   ],
   "source": [
    "expression = lambda x, y: x * y\n",
    "print(expression(5, 6))"
   ]
  },
  {
   "cell_type": "markdown",
   "id": "ff363683",
   "metadata": {},
   "source": [
    "2. Write a function to get the area of a circle from the radius.\n",
    "    Hint: remember to import the right modul for being able to calculte the area of the circle.\n"
   ]
  },
  {
   "cell_type": "code",
   "execution_count": 12,
   "id": "2a513e00",
   "metadata": {},
   "outputs": [
    {
     "name": "stdout",
     "output_type": "stream",
     "text": [
      "314.1592653589793\n"
     ]
    }
   ],
   "source": [
    "import math\n",
    "def circle_area(radius):\n",
    "    return math.pi * radius ** 2\n",
    "\n",
    "print(circle_area(10))"
   ]
  },
  {
   "cell_type": "markdown",
   "id": "23f6816b",
   "metadata": {},
   "source": [
    "3. Build a simple calculator which can: add, subtract, multiply, divide."
   ]
  },
  {
   "cell_type": "code",
   "execution_count": 13,
   "id": "8e6a9719",
   "metadata": {},
   "outputs": [
    {
     "name": "stdout",
     "output_type": "stream",
     "text": [
      "0.4\n"
     ]
    }
   ],
   "source": [
    "def calculator(a, b, which_option):\n",
    "    if which_option == \"a\":\n",
    "        return a + b\n",
    "    elif which_option == \"s\":\n",
    "        return a - b\n",
    "    elif which_option == \"m\":\n",
    "        return a * b\n",
    "    elif which_option == \"d\":\n",
    "        return a / b\n",
    "    else:\n",
    "        print(\"Error, please try again.\")\n",
    "    return 0\n",
    "\n",
    "\n",
    "print(calculator(2, 5,'d'))"
   ]
  },
  {
   "cell_type": "markdown",
   "id": "343f48c9",
   "metadata": {},
   "source": [
    "4. Define a class named Rectangle which can be constructed by a length and width.\n",
    "    The Rectangle class has a method which can compute the area."
   ]
  },
  {
   "cell_type": "code",
   "execution_count": 14,
   "id": "cae09901",
   "metadata": {},
   "outputs": [
    {
     "name": "stdout",
     "output_type": "stream",
     "text": [
      "50\n"
     ]
    }
   ],
   "source": [
    "class Rectangle:\n",
    "    def __init__(self, width, length):\n",
    "        self.width = width\n",
    "        self.length = length\n",
    "\n",
    "    def area(self):\n",
    "        return self.length * self.width\n",
    "\n",
    "\n",
    "r = Rectangle(5, 10)\n",
    "\n",
    "print(r.area())"
   ]
  },
  {
   "cell_type": "markdown",
   "id": "ba5b3cde",
   "metadata": {},
   "source": [
    "5. Define a class named Shape and its subclass Square.\n",
    "\n",
    "    Shape objects can be consrtucted by name and length has an area function wich return 0\n",
    "    \n",
    "    Square subclass has an init function which take a length and name as argument and has an area method and a describe method what prints the name of the Shape.\n",
    "    \n",
    "    Print the area from Square class."
   ]
  },
  {
   "cell_type": "code",
   "execution_count": 15,
   "id": "198d1ef9",
   "metadata": {},
   "outputs": [
    {
     "name": "stdout",
     "output_type": "stream",
     "text": [
      "25\n",
      "This is a: square\n"
     ]
    }
   ],
   "source": [
    "class Shape:\n",
    "    def __init__(self, name):\n",
    "        self.name = name\n",
    "\n",
    "    def area(self):\n",
    "        return 0\n",
    "\n",
    "\n",
    "class Square(Shape):\n",
    "    def __init__(self, name, length):\n",
    "        Shape.__init__(self, name)\n",
    "        self.length = length\n",
    "\n",
    "    def describe(self):\n",
    "        return \"This is a: \" + self.name\n",
    "\n",
    "    def area(self):\n",
    "        return self.length ** 2\n",
    "\n",
    "\n",
    "s = Square('square', 5)\n",
    "print(s.area())\n",
    "\n",
    "print(s.describe())"
   ]
  },
  {
   "cell_type": "code",
   "execution_count": null,
   "id": "92a57212",
   "metadata": {},
   "outputs": [],
   "source": []
  }
 ],
 "metadata": {
  "kernelspec": {
   "display_name": "Python 3 (ipykernel)",
   "language": "python",
   "name": "python3"
  },
  "language_info": {
   "codemirror_mode": {
    "name": "ipython",
    "version": 3
   },
   "file_extension": ".py",
   "mimetype": "text/x-python",
   "name": "python",
   "nbconvert_exporter": "python",
   "pygments_lexer": "ipython3",
   "version": "3.8.1"
  }
 },
 "nbformat": 4,
 "nbformat_minor": 5
}
